{
 "cells": [
  {
   "cell_type": "code",
   "execution_count": 1,
   "id": "b014a826-a577-4647-8c99-c9a3751b6e9c",
   "metadata": {},
   "outputs": [],
   "source": [
    "import numpy as np\n",
    "import pandas as pd"
   ]
  },
  {
   "cell_type": "code",
   "execution_count": 9,
   "id": "8ce21264-cee8-410a-86d5-f3fabceab095",
   "metadata": {},
   "outputs": [],
   "source": [
    "df = pd.read_csv('Loan_default.csv')\n",
    "df = df[['LoanAmount', 'Income', 'InterestRate', 'DTIRatio', 'Age', 'LoanPurpose', 'HasMortgage', 'HasDependents', 'CreditScore']]"
   ]
  },
  {
   "cell_type": "code",
   "execution_count": 11,
   "id": "33e394ed-515e-4cc6-9543-c5d21ecf130d",
   "metadata": {},
   "outputs": [
    {
     "name": "stderr",
     "output_type": "stream",
     "text": [
      "C:\\Users\\dipan\\AppData\\Local\\Temp\\ipykernel_3776\\1617550533.py:1: FutureWarning: Downcasting behavior in `replace` is deprecated and will be removed in a future version. To retain the old behavior, explicitly call `result.infer_objects(copy=False)`. To opt-in to the future behavior, set `pd.set_option('future.no_silent_downcasting', True)`\n",
      "  df['HasMortgage'] = df['HasMortgage'].replace(['Yes', 'No'], [1, 0])\n",
      "C:\\Users\\dipan\\AppData\\Local\\Temp\\ipykernel_3776\\1617550533.py:2: FutureWarning: Downcasting behavior in `replace` is deprecated and will be removed in a future version. To retain the old behavior, explicitly call `result.infer_objects(copy=False)`. To opt-in to the future behavior, set `pd.set_option('future.no_silent_downcasting', True)`\n",
      "  df['HasDependents'] = df['HasDependents'].replace(['Yes', 'No'], [1, 0])\n",
      "C:\\Users\\dipan\\AppData\\Local\\Temp\\ipykernel_3776\\1617550533.py:3: FutureWarning: Downcasting behavior in `replace` is deprecated and will be removed in a future version. To retain the old behavior, explicitly call `result.infer_objects(copy=False)`. To opt-in to the future behavior, set `pd.set_option('future.no_silent_downcasting', True)`\n",
      "  df['LoanPurpose'] = df['LoanPurpose'].replace(['Business', 'Home', 'Education', 'Other', 'Auto'], [0, 1, 2, 3, 4])\n"
     ]
    }
   ],
   "source": [
    "df['HasMortgage'] = df['HasMortgage'].replace(['Yes', 'No'], [1, 0])\n",
    "df['HasDependents'] = df['HasDependents'].replace(['Yes', 'No'], [1, 0])\n",
    "df['LoanPurpose'] = df['LoanPurpose'].replace(['Business', 'Home', 'Education', 'Other', 'Auto'], [0, 1, 2, 3, 4])"
   ]
  },
  {
   "cell_type": "code",
   "execution_count": 13,
   "id": "1f48229c-dd9a-4f8c-89d4-d981663e33d2",
   "metadata": {},
   "outputs": [],
   "source": [
    "from sklearn.preprocessing import Normalizer\n",
    "norm = Normalizer()"
   ]
  },
  {
   "cell_type": "code",
   "execution_count": 19,
   "id": "c806b789-4e7f-4709-8a31-b914ce1a8447",
   "metadata": {},
   "outputs": [],
   "source": [
    "df[['Income', 'LoanAmount', 'CreditScore', 'InterestRate', 'DTIRatio']] = norm.fit_transform(df[['Income', 'LoanAmount', 'CreditScore', 'InterestRate', 'DTIRatio']])"
   ]
  },
  {
   "cell_type": "code",
   "execution_count": 33,
   "id": "39e5a125-28c8-47e1-a3ab-ffd5fb69a098",
   "metadata": {},
   "outputs": [
    {
     "data": {
      "text/html": [
       "<div>\n",
       "<style scoped>\n",
       "    .dataframe tbody tr th:only-of-type {\n",
       "        vertical-align: middle;\n",
       "    }\n",
       "\n",
       "    .dataframe tbody tr th {\n",
       "        vertical-align: top;\n",
       "    }\n",
       "\n",
       "    .dataframe thead th {\n",
       "        text-align: right;\n",
       "    }\n",
       "</style>\n",
       "<table border=\"1\" class=\"dataframe\">\n",
       "  <thead>\n",
       "    <tr style=\"text-align: right;\">\n",
       "      <th></th>\n",
       "      <th>Age</th>\n",
       "      <th>LoanPurpose</th>\n",
       "      <th>HasMortgage</th>\n",
       "      <th>HasDependents</th>\n",
       "      <th>CreditScore</th>\n",
       "      <th>DTIRatio*InterestRate</th>\n",
       "      <th>LoanAmount/Income</th>\n",
       "    </tr>\n",
       "  </thead>\n",
       "  <tbody>\n",
       "    <tr>\n",
       "      <th>0</th>\n",
       "      <td>56</td>\n",
       "      <td>3</td>\n",
       "      <td>1</td>\n",
       "      <td>1</td>\n",
       "      <td>0.005212</td>\n",
       "      <td>-21.118982</td>\n",
       "      <td>0.826849</td>\n",
       "    </tr>\n",
       "    <tr>\n",
       "      <th>1</th>\n",
       "      <td>69</td>\n",
       "      <td>3</td>\n",
       "      <td>0</td>\n",
       "      <td>0</td>\n",
       "      <td>0.003411</td>\n",
       "      <td>-22.430208</td>\n",
       "      <td>0.969918</td>\n",
       "    </tr>\n",
       "    <tr>\n",
       "      <th>2</th>\n",
       "      <td>46</td>\n",
       "      <td>4</td>\n",
       "      <td>1</td>\n",
       "      <td>1</td>\n",
       "      <td>0.002925</td>\n",
       "      <td>-22.010739</td>\n",
       "      <td>0.775223</td>\n",
       "    </tr>\n",
       "    <tr>\n",
       "      <th>3</th>\n",
       "      <td>32</td>\n",
       "      <td>0</td>\n",
       "      <td>0</td>\n",
       "      <td>0</td>\n",
       "      <td>0.013535</td>\n",
       "      <td>-21.340090</td>\n",
       "      <td>0.726974</td>\n",
       "    </tr>\n",
       "    <tr>\n",
       "      <th>4</th>\n",
       "      <td>60</td>\n",
       "      <td>4</td>\n",
       "      <td>0</td>\n",
       "      <td>1</td>\n",
       "      <td>0.028264</td>\n",
       "      <td>-18.474671</td>\n",
       "      <td>0.936927</td>\n",
       "    </tr>\n",
       "  </tbody>\n",
       "</table>\n",
       "</div>"
      ],
      "text/plain": [
       "   Age  LoanPurpose  HasMortgage  HasDependents  CreditScore  \\\n",
       "0   56            3            1              1     0.005212   \n",
       "1   69            3            0              0     0.003411   \n",
       "2   46            4            1              1     0.002925   \n",
       "3   32            0            0              0     0.013535   \n",
       "4   60            4            0              1     0.028264   \n",
       "\n",
       "   DTIRatio*InterestRate  LoanAmount/Income  \n",
       "0             -21.118982           0.826849  \n",
       "1             -22.430208           0.969918  \n",
       "2             -22.010739           0.775223  \n",
       "3             -21.340090           0.726974  \n",
       "4             -18.474671           0.936927  "
      ]
     },
     "execution_count": 33,
     "metadata": {},
     "output_type": "execute_result"
    }
   ],
   "source": [
    "df.head()"
   ]
  },
  {
   "cell_type": "code",
   "execution_count": 27,
   "id": "a6ccd29b-ffd2-4f72-a09f-8286b84a36b0",
   "metadata": {},
   "outputs": [],
   "source": [
    "df['DTIRatio*InterestRate'] = (np.log(df['DTIRatio'] * df['InterestRate']))\n",
    "df['LoanAmount/Income'] = (np.abs(np.log(df['LoanAmount']/df['Income']))**0.30)"
   ]
  },
  {
   "cell_type": "code",
   "execution_count": 31,
   "id": "54213729-767f-4b2a-b1b5-886d570c7bec",
   "metadata": {},
   "outputs": [],
   "source": [
    "df.drop(columns = ['LoanAmount', 'Income', 'InterestRate', 'DTIRatio'], inplace=True)"
   ]
  },
  {
   "cell_type": "code",
   "execution_count": 35,
   "id": "202e0f9a-162c-4cf5-a61d-5dea28c81781",
   "metadata": {},
   "outputs": [],
   "source": [
    "import lightgbm as lgb\n",
    "from sklearn.model_selection import train_test_split\n",
    "from sklearn.metrics import r2_score"
   ]
  },
  {
   "cell_type": "code",
   "execution_count": 37,
   "id": "ffd9c0e2-0af7-48ea-ad1a-b02dd4d27ea4",
   "metadata": {},
   "outputs": [],
   "source": [
    "X_train, X_test, y_train, y_test = train_test_split(df.drop(columns = ['CreditScore']),\n",
    "                                                    df['CreditScore'],\n",
    "                                                    test_size=0.2,\n",
    "                                                    random_state=42)"
   ]
  },
  {
   "cell_type": "code",
   "execution_count": 41,
   "id": "9d2df58b-e0fd-4e14-bb74-8fedb587afe6",
   "metadata": {},
   "outputs": [],
   "source": [
    "# Convert data into LightGBM Dataset format\n",
    "train_data = lgb.Dataset(X_train, label=y_train)\n",
    "test_data = lgb.Dataset(X_test, label=y_test, reference=train_data)\n",
    "\n",
    "# Define LightGBM-XT Parameters\n",
    "params = {\n",
    "    \"boosting_type\": \"goss\",  # Gradient-Based One-Side Sampling (for LightGBM-XT)\n",
    "    \"objective\": \"regression\",  # Use \"binary\" for classification\n",
    "    \"metric\": \"r2\",  # R-squared metric\n",
    "    \"learning_rate\": 0.05,\n",
    "    \"num_leaves\": 64,\n",
    "    \"max_depth\": -1,\n",
    "    \"feature_fraction\": 0.8,\n",
    "    \"bagging_fraction\": 0.8,\n",
    "    \"lambda_l1\": 0.1,\n",
    "    \"lambda_l2\": 0.1,\n",
    "    \"verbose\": -1\n",
    "}\n",
    "\n",
    "# Train the model\n",
    "model = lgb.train(params, train_data, valid_sets=[test_data])"
   ]
  },
  {
   "cell_type": "code",
   "execution_count": 43,
   "id": "5a0061e4-63f7-42ff-89be-b3f76dd01c18",
   "metadata": {},
   "outputs": [
    {
     "name": "stdout",
     "output_type": "stream",
     "text": [
      "R-squared Score: 0.5428\n"
     ]
    }
   ],
   "source": [
    "y_pred = model.predict(X_test)\n",
    "r2 = r2_score(y_test, y_pred)\n",
    "\n",
    "print(f\"R-squared Score: {r2:.4f}\")\n"
   ]
  },
  {
   "cell_type": "code",
   "execution_count": null,
   "id": "d898c366-6345-4d2d-86eb-75aeb8228320",
   "metadata": {},
   "outputs": [],
   "source": []
  }
 ],
 "metadata": {
  "kernelspec": {
   "display_name": "Python [conda env:base] *",
   "language": "python",
   "name": "conda-base-py"
  },
  "language_info": {
   "codemirror_mode": {
    "name": "ipython",
    "version": 3
   },
   "file_extension": ".py",
   "mimetype": "text/x-python",
   "name": "python",
   "nbconvert_exporter": "python",
   "pygments_lexer": "ipython3",
   "version": "3.12.3"
  }
 },
 "nbformat": 4,
 "nbformat_minor": 5
}
